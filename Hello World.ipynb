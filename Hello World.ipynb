{
 "cells": [
  {
   "cell_type": "code",
   "execution_count": 1,
   "id": "22cefda0",
   "metadata": {
    "scrolled": true
   },
   "outputs": [
    {
     "name": "stdout",
     "output_type": "stream",
     "text": [
      "My dear fellow, Steven, it seems like you have been acting a little bit suspicious! Sussy Steven\n",
      "My dear fellow, Mark, it seems like you have been acting a little bit suspicious! Sussy Mark\n",
      "My dear fellow, Shain, it seems like you have been acting a little bit suspicious! Sussy Shain\n"
     ]
    }
   ],
   "source": [
    "def sus(name):\n",
    "    return \"My dear fellow, \" + name + \", it seems like you have been acting a little bit suspicious! Sussy \" + name\n",
    "\n",
    "print(sus(\"Steven\"))\n",
    "\n",
    "MarkPut = sus(\"Mark\")\n",
    "print(MarkPut)\n",
    "print(sus(\"Shain\"))"
   ]
  },
  {
   "cell_type": "code",
   "execution_count": 2,
   "id": "3eaff3cf",
   "metadata": {},
   "outputs": [
    {
     "name": "stdout",
     "output_type": "stream",
     "text": [
      "2.0\n",
      "40\n",
      "6.082762530298219\n"
     ]
    }
   ],
   "source": [
    "def τετραγωνίζω(num):\n",
    "    return num**0.5\n",
    "\n",
    "#τετραγωνίζω refers to squaring numbers\n",
    "\n",
    "print(τετραγωνίζω(4))\n",
    "\n",
    "print(int(τετραγωνίζω(1600)))\n",
    "\n",
    "print(τετραγωνίζω(37))"
   ]
  }
 ],
 "metadata": {
  "kernelspec": {
   "display_name": "Python 3 (ipykernel)",
   "language": "python",
   "name": "python3"
  },
  "language_info": {
   "codemirror_mode": {
    "name": "ipython",
    "version": 3
   },
   "file_extension": ".py",
   "mimetype": "text/x-python",
   "name": "python",
   "nbconvert_exporter": "python",
   "pygments_lexer": "ipython3",
   "version": "3.9.12"
  }
 },
 "nbformat": 4,
 "nbformat_minor": 5
}
